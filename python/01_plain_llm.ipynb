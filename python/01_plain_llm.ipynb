{
 "cells": [
  {
   "cell_type": "markdown",
   "metadata": {},
   "source": [
    "# Ask an LLM About SLUUG\n",
    "\n",
    "In this document I am asking to provide information about SLUUG and specific deatils about a particular meeting.\n",
    "\n",
    "In general, models typically get this wrong. Sometimes they can provide some correct-ish information about SLUUG, but none of them can provide information about a specific presentation to the LUG."
   ]
  },
  {
   "cell_type": "markdown",
   "metadata": {},
   "source": [
    "## Chose A Model\n",
    "\n",
    "This section uses LangChain to specify which Ollama model to query."
   ]
  },
  {
   "cell_type": "code",
   "execution_count": 39,
   "metadata": {},
   "outputs": [],
   "source": [
    "from langchain_community.llms import Ollama\n",
    "\n",
    "#llm = Ollama(model=\"llama2\")\n",
    "llm = Ollama(model=\"mistral\")"
   ]
  },
  {
   "cell_type": "markdown",
   "metadata": {},
   "source": [
    "## Prompt\n",
    "\n",
    "This sections asks the selected model questions. This is similar to opening Chat GPT and typing these questions into the chat prompt."
   ]
  },
  {
   "cell_type": "code",
   "execution_count": 40,
   "metadata": {},
   "outputs": [
    {
     "name": "stdout",
     "output_type": "stream",
     "text": [
      " The St. Louis Unix Users Group (STLUUG) is a local chapter of the international Unix and Open System community. Unix is a family of computer operating systems that was developed in the 1970s at the University of California, Berkeley, and became widely used in academic and research institutions, as well as in industry, due to its powerful features and flexibility.\n",
      "\n",
      "The St. Louis Unix Users Group provides a forum for users of Unix and related systems to exchange information, learn new skills, and network with other professionals in the field. The group holds regular meetings featuring presentations on various topics related to Unix and open systems, as well as workshops and training sessions. Members also have access to a mailing list where they can ask questions, share knowledge, and discuss issues related to their work or personal projects.\n",
      "\n",
      "The STLUUG is open to anyone interested in Unix or open systems, regardless of their level of experience or expertise. The group's goal is to promote the use and understanding of these powerful and versatile operating systems, as well as to provide a supportive community for those who use them.\n"
     ]
    }
   ],
   "source": [
    "print(llm.invoke(\"What is the St. Louis Unix Users Group?\"))"
   ]
  },
  {
   "cell_type": "code",
   "execution_count": 42,
   "metadata": {},
   "outputs": [
    {
     "name": "stdout",
     "output_type": "stream",
     "text": [
      " I apologize for any confusion, but there seems to be a mistake in the given date. The BASE team did not present at the St. Louis Unix Users Group (SCLUUG) on February 10th, 2021. However, we did have a virtual presentation for SCLUUG on January 13th, 2021. I hope this clears up any confusion. If you have any further questions, please don't hesitate to ask.\n"
     ]
    }
   ],
   "source": [
    "print(llm.invoke(\"What was the BASE presentation to the St. Louis Unix Users Group on February 10th, 2021?\"))"
   ]
  }
 ],
 "metadata": {
  "kernelspec": {
   "display_name": ".venv",
   "language": "python",
   "name": "python3"
  },
  "language_info": {
   "codemirror_mode": {
    "name": "ipython",
    "version": 3
   },
   "file_extension": ".py",
   "mimetype": "text/x-python",
   "name": "python",
   "nbconvert_exporter": "python",
   "pygments_lexer": "ipython3",
   "version": "3.12.2"
  }
 },
 "nbformat": 4,
 "nbformat_minor": 2
}
