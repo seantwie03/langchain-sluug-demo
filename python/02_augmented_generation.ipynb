{
 "cells": [
  {
   "cell_type": "markdown",
   "metadata": {},
   "source": [
    "# Use Augmented Prompts To \"Teach\" the LLM"
   ]
  },
  {
   "cell_type": "markdown",
   "metadata": {},
   "source": [
    "## Choose a Model\n",
    "\n",
    "This section uses LangChain to specify which Ollama model to query."
   ]
  },
  {
   "cell_type": "code",
   "execution_count": 115,
   "metadata": {},
   "outputs": [],
   "source": [
    "from langchain_community.llms import Ollama\n",
    "\n",
    "#llm = Ollama(model=\"llama2\")\n",
    "llm = Ollama(model=\"mistral\")"
   ]
  },
  {
   "cell_type": "markdown",
   "metadata": {},
   "source": [
    "## Load Information About SLUUG\n",
    "\n",
    "This section of code will read in information about the St. Louis Unix Users Group and store it in a variable.\n",
    "\n",
    "For some reason, LLMs are good at roleplay. Many tutorials on 'Prompt Engineering' will tell you to start off by telling the LLM how you want it to respond. In this case, we want the LLM to respond as if they are the head of Marketing and Content Strategy for SLUUG."
   ]
  },
  {
   "cell_type": "code",
   "execution_count": 116,
   "metadata": {},
   "outputs": [
    {
     "name": "stdout",
     "output_type": "stream",
     "text": [
      "You are the head of Marketing and Content Strategy for the St. Louis Unix Users Group. Use the following pieces of context to answer the question at the end. If you don't know the answer, just say that you don't know, don't try to make up an answer.\n",
      "\n",
      "The Saint Louis Unix Users Group (SLUUG) is an IRS 501c(6) designated not-for-profit professional association dedicated to education and communication among computer users. SLUUG members include many Linux and Unix professionals, Networking experts, System experts, hobbyists, and students. Also, many who are interested in Unix, Unix-like Operating Systems, Linux, BSD and other Free Open Source Software (FOSS) applications, products, projects and services.  Its purpose is to provide a forum for exchanging information about open systems, products, services and architectures. \n",
      "\n",
      "The St. Louis Unix Users Group have met continuously since we incorporated in July 1992. The meetings consist of two presentations. The BASE presentation is a short presentation of an introductory topic. The MAIN presentation is a longer, more detailed, presentation of a more complex topic. All of our meetings are free and open to the public.\n"
     ]
    }
   ],
   "source": [
    "system_prompt_file = \"system_prompt.md\"\n",
    "with open(system_prompt_file, encoding=\"utf-8\") as f:\n",
    "    system_prompt = f.read()\n",
    "\n",
    "print(system_prompt)"
   ]
  },
  {
   "cell_type": "markdown",
   "metadata": {},
   "source": [
    "## Load Information about the February 10th, 2021 Presentations\n",
    "\n",
    "This section of code will read in information about the BASE and MAIN presentations that were given on February 10th, 2021 and store it in a variable."
   ]
  },
  {
   "cell_type": "code",
   "execution_count": 117,
   "metadata": {},
   "outputs": [
    {
     "name": "stdout",
     "output_type": "stream",
     "text": [
      "# St. Louis UNIX Users Group (SLUUG) - 2021-02-10\n",
      "\n",
      "## BASE Presentation\n",
      "\n",
      "The BASE presentation on February 10th, 2021 was titled: Speedbar. \n",
      "\n",
      "The presenter was Steve Stegman.\n",
      "\n",
      "The presentation abstract was as follows:\n",
      "Emacs' Speedbar for fast file access.\n",
      "\n",
      "SpeedBar is a tool (written in EMACS) for organizing or listing files and directories\n",
      "\n",
      "Speedbar is an integral part of Emacs which has been in use since version 23.2 in 2010. Entering “speedbar” in the emacs command line causes another frame to be opened to graphically show the current directory tree which can be traversed upwards and downwards from the current position. It shows all of the files and directories and each can be examined with a single mouse click. If the file is not text but a jpg or pdf or some other file type, an auxiliary program will be called to display the file in an emacs buffer.\n",
      "\n",
      "## MAIN Presentation\n",
      "\n",
      "The MAIN presentation on February 10th, 2021 was titled: A Gentle Introduction to git.\n",
      "\n",
      "The presenter was Robert Citek. \n",
      "\n",
      "The presentation abstract was as follows:\n",
      "From its inception in 2005, git has gone from a version-tracking tool used by Linux kernel developers to a corporate mainstay for collaborating in teams on projects. In this talk, we'll go over the three main parts of a git project ( i.e. working folder, staging area, and repository ) and how to work with each. In the process, we'll touch on many of the git objects that make those parts ( e.g. files/folders, commits, branches, SHAs, etc. ). And we'll do that by creating and modifying a project from scratch, using git to manage the changes. By the end, you will have a good basic understanding of how to use git to work on your own projects to then branch into more advanced uses of git.\n",
      "\n",
      "Augmented Prompt Length: 2924\n"
     ]
    }
   ],
   "source": [
    "markdown_file = \"2021-02-10-SLUUG.md\"\n",
    "with open(markdown_file, encoding=\"utf-8\") as f:\n",
    "    doc_str = f.read()\n",
    "\n",
    "print(doc_str)\n",
    "print(f\"Augmented Prompt Length: {len(system_prompt + doc_str)}\")"
   ]
  },
  {
   "cell_type": "markdown",
   "metadata": {},
   "source": [
    "## Augmented Prompts\n",
    "\n",
    "This section will send information about SLUUG and Information about the BASE and MAIN presentations that were given on February 10th, 2021 along with the Question. This is similar to opening Chat GPT and Copy/Pasting the contents of those Markdown files into the chat prompt, then typing in a question."
   ]
  },
  {
   "cell_type": "markdown",
   "metadata": {},
   "source": [
    "First, ask the LLM to identify the BASE presentation."
   ]
  },
  {
   "cell_type": "code",
   "execution_count": 118,
   "metadata": {},
   "outputs": [
    {
     "name": "stdout",
     "output_type": "stream",
     "text": [
      " The BASE presentation on February 10th, 2021 at the St. Louis Unix Users Group was titled \"Speedbar\" and was presented by Steve Stegman. The presentation was about Emacs' Speedbar for fast file access. SpeedBar is a tool within Emacs that has been in use since version 23.2 in 2010, which allows users to organize or list files and directories and traverse upwards and downwards from the current position. It shows all of the files and directories and each can be examined with a single mouse click. If the file is not text but a jpg or pdf or some other file type, an auxiliary program will be called to display the file in an emacs buffer.\n"
     ]
    }
   ],
   "source": [
    "print(llm.invoke(system_prompt + doc_str + \"What was the BASE presentation to the St. Louis UNIX Users Group on February 10th, 2021?\"))"
   ]
  },
  {
   "cell_type": "markdown",
   "metadata": {},
   "source": [
    "Next, ask the LLM to generate several tweets about the BASE presentation."
   ]
  },
  {
   "cell_type": "code",
   "execution_count": 119,
   "metadata": {},
   "outputs": [
    {
     "name": "stdout",
     "output_type": "stream",
     "text": [
      " 1. 📣 Exciting news, SLUUGers! On Feb 10th, Steve Stegman will introduce us to Emacs' game-changing Speedbar tool. Get ready to access files faster than ever before! #SLUUG #Emacs #Speedbar\n",
      "2. ⚡ Prepare for a productivity boost with the upcoming BASE presentation at SLUUG on Feb 10th! Steve Stegman will show us how Emacs' Speedbar can revolutionize file exploration. #SLUUG #ProductivityHacks #Emacs\n",
      "3. 🌳 Dive into the lush, organized world of files with Steve Stegman at SLUUG on Feb 10th! His BASE presentation will introduce us to Emacs' Speedbar for swift and efficient file management. #SLUUG #FileManagement #Emacs\n",
      "4. 🔎 Want to master your directories? Join SLUUG on Feb 10th as Steve Stegman demystifies Emacs' Speedbar, the essential tool for quick file access and discovery! #SLUUG #DirectoryManagement #Emacs\n",
      "5. 🚀 Get ready for a skyrocketing Emacs learning experience at SLUUG on Feb 10th! Steve Stegman will unveil the power of Speedbar, an integral part of Emacs since version 23.2. #SLUUG #EmacsMasterclass #Speedbar\n"
     ]
    }
   ],
   "source": [
    "print(llm.invoke(system_prompt + doc_str + \"Generate several short and enthusiastic tweets that summarize the BASE presentation to the St. Louis UNIX Users Group on February 10th, 2021. Use future-tense.\"))"
   ]
  },
  {
   "cell_type": "markdown",
   "metadata": {},
   "source": [
    "Next, ask the LLM to identify the MAIN presentation."
   ]
  },
  {
   "cell_type": "code",
   "execution_count": 120,
   "metadata": {},
   "outputs": [
    {
     "name": "stdout",
     "output_type": "stream",
     "text": [
      " The MAIN presentation to the St. Louis UNIX Users Group on February 10th, 2021 was titled: \"A Gentle Introduction to git.\"\n"
     ]
    }
   ],
   "source": [
    "print(llm.invoke(system_prompt + doc_str + \"What was the MAIN presentation to the St. Louis UNIX Users Group on February 10th, 2021?\"))"
   ]
  },
  {
   "cell_type": "markdown",
   "metadata": {},
   "source": [
    "Next, ask the LLM to generate several tweets about the MAIN presentation."
   ]
  },
  {
   "cell_type": "code",
   "execution_count": 121,
   "metadata": {},
   "outputs": [
    {
     "name": "stdout",
     "output_type": "stream",
     "text": [
      " 🔄 Exciting introduction to git coming up at SLUUG! ✨ Discover how this version-tracking tool transformed into a collaboration powerhouse for teams. Learn about the three main parts of a git project: working folder, staging area, and repository. Get ready to create and manage projects from scratch using git! #SLUUG #git #tech\n",
      "\n",
      "🌱 Join us at SLUUG as Robert Citek takes us on a gentle journey into the world of git! 🌳 Unleash your inner developer and gain a solid foundation in using this essential version-control system for your projects. Get ready to branch out into advanced git uses! #SLUUG #git #tech\n",
      "\n",
      "💻 Don't miss SLUUG's exploration of git on February 10th! 💻 Discover the three main components of a git project and how they help manage your code, all while creating and modifying a project from scratch. Join us to gain a strong grasp of this valuable tool! #SLUUG #git #tech\n",
      "\n",
      "🚀 Get ready for an enlightening journey into git at SLUUG on February 10th! 🌠 Learn the ins and outs of working with this version-control system, from managing files in your working folder to committing changes. Don't miss it! #SLUUG #git #tech\n",
      "\n",
      "#SLUUG presents a captivating introduction to git on February 10th! 🌐 Join us as Robert Citek takes you through the basics, from understanding the three main parts of a git project to managing and collaborating on projects. Get ready to level up your skills! #SLUUG #git #tech\n"
     ]
    }
   ],
   "source": [
    "print(llm.invoke(system_prompt + doc_str + \"Generate several short and enthusiastic tweets that summarize the MAIN presentation to the St. Louis UNIX Users Group on February 10th, 2021. Use future-tense.\"))"
   ]
  },
  {
   "cell_type": "markdown",
   "metadata": {},
   "source": [
    "Next, ask the LLM to generate several possible titles for the YouTube video of this recording."
   ]
  },
  {
   "cell_type": "code",
   "execution_count": 123,
   "metadata": {},
   "outputs": [
    {
     "name": "stdout",
     "output_type": "stream",
     "text": [
      " 1. \"Emacs Speedbar: Quick File Access\"\n",
      "2. \"Intro to Git: Version Control Basics\"\n",
      "3. \"Exploring Emacs' Speedbar\"\n",
      "4. \"Gentle Start with Git: Versioning\"\n",
      "5. \"Mastering Emacs Speedbar & Git\"\n",
      "6. \"Speedbar vs Git: Organize vs Version\" (If you want to highlight the difference between the two presentations)\n"
     ]
    }
   ],
   "source": [
    "print(llm.invoke(system_prompt + doc_str + \"Generate several short titles for the recording of the February 10th, 2021 Presentations which will be posted on YouTube. Use less than five words in each title.\"))\n"
   ]
  },
  {
   "cell_type": "markdown",
   "metadata": {},
   "source": [
    "Lastly, ask the LLM to generate several design ideas for the YouTube thumbnail."
   ]
  },
  {
   "cell_type": "code",
   "execution_count": 124,
   "metadata": {},
   "outputs": [
    {
     "name": "stdout",
     "output_type": "stream",
     "text": [
      " Design Idea 1:\n",
      "This thumbnail design features an Emacs editor with Speedbar open on the left side and a Git repository icon on the right. The title \"SLUUG: Feb 10, 2021 - Speedbar & A Gentle Introduction to git\" is displayed at the top. The colors used are consistent with the Emacs and Git logos.\n",
      "\n",
      "Design Idea 2:\n",
      "This thumbnail design depicts a hand holding a computer mouse over two overlapping images. One image represents an Emacs editor with Speedbar open, and the other image represents a Git repository icon. The title \"SLUUG: Feb 10, 2021 - Embracing Open Systems with Speedbar & git\" is displayed at the bottom.\n",
      "\n",
      "Design Idea 3:\n",
      "This thumbnail design shows a tree with two branches growing out of it. One branch represents an Emacs editor with Speedbar open, while the other branch represents a Git repository icon. The title \"SLUUG: Feb 10, 2021 - Growing Your Knowledge with Speedbar & git\" is displayed above the image.\n",
      "\n",
      "Design Idea 4:\n",
      "This thumbnail design features a split-screen image with the left side representing an Emacs editor with Speedbar open and the right side showing a Git repository icon. The title \"SLUUG: Feb 10, 2021 - Exploring Open Systems with Speedbar & git\" is displayed at the top, and the presenters' names (\"Steve Stegman\" for Speedbar presentation and \"Robert Citek\" for Git presentation) are listed below.\n",
      "\n",
      "Design Idea 5:\n",
      "This thumbnail design showcases a pair of hands working together on a computer, one hand using Emacs with Speedbar and the other hand using Git. The title \"SLUUG: Feb 10, 2021 - Collaborating with Open Systems: Speedbar & git\" is displayed at the top, emphasizing the collaboration aspect of both tools.\n"
     ]
    }
   ],
   "source": [
    "print(llm.invoke(system_prompt + doc_str + \"Generate several design ideas for a Thumbnail for the YouTube video of the February 10th, 2021 Presentations.\"))"
   ]
  }
 ],
 "metadata": {
  "kernelspec": {
   "display_name": ".venv",
   "language": "python",
   "name": "python3"
  },
  "language_info": {
   "codemirror_mode": {
    "name": "ipython",
    "version": 3
   },
   "file_extension": ".py",
   "mimetype": "text/x-python",
   "name": "python",
   "nbconvert_exporter": "python",
   "pygments_lexer": "ipython3",
   "version": "3.12.2"
  }
 },
 "nbformat": 4,
 "nbformat_minor": 2
}
