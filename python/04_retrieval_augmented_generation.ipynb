{
 "cells": [
  {
   "cell_type": "markdown",
   "metadata": {},
   "source": [
    "# Use Retrieval-Augmented Generation"
   ]
  },
  {
   "cell_type": "markdown",
   "metadata": {},
   "source": [
    "## Choose Models\n",
    "\n",
    "This section uses LangChain to specify which Ollama model to query and which embeddings model to use."
   ]
  },
  {
   "cell_type": "code",
   "execution_count": 202,
   "metadata": {},
   "outputs": [],
   "source": [
    "from langchain_community.llms import Ollama\n",
    "from langchain_community.embeddings import OllamaEmbeddings\n",
    "from langchain_core.prompts import PromptTemplate\n",
    "from langchain_text_splitters import MarkdownHeaderTextSplitter\n",
    "from langchain_community.vectorstores import FAISS\n",
    "from langchain.chains.combine_documents import create_stuff_documents_chain\n",
    "\n",
    "#llm = Ollama(model=\"llama2\")\n",
    "llm = Ollama(model=\"mistral\")"
   ]
  },
  {
   "cell_type": "markdown",
   "metadata": {},
   "source": [
    "## Load Information About SLUUG\n",
    "\n",
    "This section of code will read in information about the St. Louis Unix Users Group. That information is put into a LangChain PromptTemplate."
   ]
  },
  {
   "cell_type": "code",
   "execution_count": 203,
   "metadata": {},
   "outputs": [],
   "source": [
    "system_prompt_file = \"system_prompt.md\"\n",
    "with open(system_prompt_file, encoding=\"utf-8\") as f:\n",
    "    system_prompt = f.read()\n",
    "\n",
    "prompt = PromptTemplate.from_template(\n",
    "    system_prompt + \n",
    "    \"\"\"\n",
    "    {context}\n",
    "\n",
    "    Question: {question}\n",
    "\n",
    "    Answer:\"\"\")"
   ]
  },
  {
   "cell_type": "markdown",
   "metadata": {},
   "source": [
    "## Load Information about the February-July 2021 Presentations\n",
    "\n",
    "This section of code will read in information about the BASE and MAIN presentations that were given on February-July 2021 and store it in a variable."
   ]
  },
  {
   "cell_type": "code",
   "execution_count": 204,
   "metadata": {},
   "outputs": [],
   "source": [
    "markdown_files = [\"2021-02-10-SLUUG.md\", \"2021-03-10-SLUUG.md\", \"2021-04-14-SLUUG.md\", \"2021-05-12-SLUUG.md\", \"2021-06-09-SLUUG.md\", \"2021-07-14-SLUUG.md\"]\n",
    "doc_str = \"\"\n",
    "for markdown_file in markdown_files:\n",
    "    with open(markdown_file, encoding=\"utf-8\") as f:\n",
    "        doc_str += f.read()"
   ]
  },
  {
   "cell_type": "markdown",
   "metadata": {},
   "source": [
    "Next, we need to split the large `doc_str` into multiple \"chunks.\" This code will use the MarkdownHeaderTextSplitter from LangChain to split the `doc_str` on the Markdown Headers. Each second-level header will be put in its own chunk. This means each Presentation will have it's own chunk."
   ]
  },
  {
   "cell_type": "code",
   "execution_count": 205,
   "metadata": {},
   "outputs": [
    {
     "name": "stdout",
     "output_type": "stream",
     "text": [
      "page_content=\"The BASE presentation on February 10th, 2021 was titled: Speedbar.  \\nThe presenter was Steve Stegman.  \\nThe presentation abstract was as follows:\\nEmacs' Speedbar for fast file access.  \\nSpeedBar is a tool (written in EMACS) for organizing or listing files and directories  \\nSpeedbar is an integral part of Emacs which has been in use since version 23.2 in 2010. Entering “speedbar” in the emacs command line causes another frame to be opened to graphically show the current directory tree which can be traversed upwards and downwards from the current position. It shows all of the files and directories and each can be examined with a single mouse click. If the file is not text but a jpg or pdf or some other file type, an auxiliary program will be called to display the file in an emacs buffer.\" metadata={'Meeting Title': 'St. Louis UNIX Users Group (SLUUG) - 2021-02-10', 'Presenataion Type': 'BASE Presentation'}\n",
      "\n",
      "\n",
      "page_content=\"The MAIN presentation on February 10th, 2021 was titled: A Gentle Introduction to git.  \\nThe presenter was Robert Citek.  \\nThe presentation abstract was as follows:\\nFrom its inception in 2005, git has gone from a version-tracking tool used by Linux kernel developers to a corporate mainstay for collaborating in teams on projects. In this talk, we'll go over the three main parts of a git project ( i.e. working folder, staging area, and repository ) and how to work with each. In the process, we'll touch on many of the git objects that make those parts ( e.g. files/folders, commits, branches, SHAs, etc. ). And we'll do that by creating and modifying a project from scratch, using git to manage the changes. By the end, you will have a good basic understanding of how to use git to work on your own projects to then branch into more advanced uses of git.\" metadata={'Meeting Title': 'St. Louis UNIX Users Group (SLUUG) - 2021-02-10', 'Presenataion Type': 'MAIN Presentation'}\n",
      "\n",
      "\n",
      "page_content='The BASE presentation on March 10th, 2021 was titled: 1Password.  \\nThe presenter was Scott Granneman.  \\nThe presentation abstract was as follows:\\nA password manager that works on Android, Chrome OS, iOS, macOS, MS Windows, and works with browsers Firefox, Google Chrome, Opera, and Safari.' metadata={'Meeting Title': 'St. Louis UNIX Users Group (SLUUG) - 2021-03-10', 'Presenataion Type': 'BASE Presentation'}\n",
      "\n",
      "\n",
      "page_content='The MAIN presentation on March 10th, 2021 was titled: The Raku (Perl 6) language.  \\nThe presenter was Steven Lembark.  \\nThe presentation abstract was as follows:\\n\"Hypers and Gathers and Takes! Oh my!\"  \\nRaku is the new name (since 2019) for Perl 6 (out since 2015). Perl 6 took YEARS in anticipation and when it finally came out, it was very different from older versions of Perl. So much so, they gave up on the name Perl 6 and just went with a new name, RAKU.' metadata={'Meeting Title': 'St. Louis UNIX Users Group (SLUUG) - 2021-03-10', 'Presenataion Type': 'MAIN Presentation'}\n",
      "\n",
      "\n",
      "page_content=\"The BASE presentation on April 14th, 2021 was titled: Create Your Own Shell Functions.  \\nThe presenter was James Conroy.  \\nThe presentation abstract was as follows:\\nTired of your static aliases only doing the one thing?  \\nWant to add some flow control to your shell, so that it changes behavior depending on the time of day, day of the week, or OS of that server you're about to ssh into?  \\nThis tutorial will give you the what, why, and how of BASH functions.  \\nPlus, how to find and 'fix' the functions the last 'sysadmin' left behind.\" metadata={'Meeting Title': 'St. Louis UNIX Users Group (SLUUG) - 2021-04-14', 'Presenataion Type': 'BASE Presentation'}\n",
      "\n",
      "\n",
      "page_content='The MAIN presentation on April 14th, 2021 was titled: COSI (Common Operating System Interface)  \\nThe presenter was  Steven Borrelli.  \\nThe presentation abstract was as follows:\\nThis talk introduces COSI, the Common Operating System Interface, which defines an API for the configuration of container operating systems.  \\nWhile there has been innovation in the development of minimal Linux distributions for running Kubernetes, the distributions diverge from each other in terms of management and API endpoints. Similar to other projects such as the Container Network Interface (CNI) , COSI has a focus on the configuration of the underlying (Linux) OS, providing Protocol Buffer definitions and a gRPC API reference implementation for configuration settings such as DNS, network, and kernel settings. By utilizing a flexible plugin system, multiple backend implementations can provide a consistent API to consumers.' metadata={'Meeting Title': 'St. Louis UNIX Users Group (SLUUG) - 2021-04-14', 'Presenataion Type': 'MAIN Presentation'}\n",
      "\n",
      "\n",
      "page_content='The BASE presentation on May 12th, 2021 was titled: Upgrading RAID6, Zero Downtime.  \\nThe presenter was Lee Lammert.  \\nThe presentation abstract was as follows:\\nThere is a lot of hype about \"zero downtime\", and many vendors charge boucoup dinero for that sort of hardware capability to have when upgrading a storage array.  \\nWith Linux SoftRAID, however, don\\'t believe the hype - \"zero downtime\" has nothing to do with hardware!  \\nThis tutorial will cover upgrading a 6x2T SoftRAID array to 6x4T, and then adding two more 4T drives, without any downtime or service interruption.' metadata={'Meeting Title': 'St. Louis UNIX Users Group (SLUUG) - 2021-05-12', 'Presenataion Type': 'BASE Presentation'}\n",
      "\n",
      "\n",
      "page_content='The MAIN presentation on May 12th, 2021 was titled: Redhat Kickstart.  \\nThe presenter was Steven Gomez.  \\nThe presentation abstract was as follows:\\nRed Hat\\'s Kickstart installations offer a means to automate the installation process, either partially or fully. Kickstart files contain answers to all questions normally asked by the installation program, such as what time zone you want the system to use, how the drives should be partitioned, or which packages should be installed. Providing a prepared Kickstart file when the installation begins therefore allows you to perform the installation automatically, without need for any intervention from the user.  \\nKickstart features can be an Admin\\'s best friend. This session will present examples of how to use the Kickstart system with RHEL/CentOS platforms to automate the creation of \"cookie cutter\" systems in an easily repeatable manner. Working examples of various methods of using Kickstarts will be included.' metadata={'Meeting Title': 'St. Louis UNIX Users Group (SLUUG) - 2021-05-12', 'Presenataion Type': 'MAIN Presentation'}\n",
      "\n",
      "\n",
      "page_content='The BASE presentation on June 9th, 2021 was titled: SQLite 3 Database  \\nThe presenter was Ed Howland.  \\nThe presentation abstract was as follows:\\nA database is used to collect, store, manage, organize and analyze information. There are many database systems. This session will introduce simple database concepts. Then it will cover the free SQLite database system that is likely the single most popular and widely deployed choice.' metadata={'Meeting Title': 'St. Louis UNIX Users Group (SLUUG) - 2021-06-09', 'Presenataion Type': 'BASE Presentation'}\n",
      "\n",
      "\n",
      "page_content='The MAIN presentation on June 9th, 2021 was titled: git: peering behind the curtain  \\nThe presenter was Robert Citek.  \\nThe presentation abstract was as follows:\\nAfter Robert\\'s \"A Gentle Introduction To git\" last February, this will be a deeper dive, getting into some of the \"behind the scenes\" stuff that git does: where it stores files, how it stores metadata about the files, and how the files are organized.  \\nIn a previous talk, we went over the basics of using git as a version control system, covering the working folder, the staging area, and the repository. In this talk, we will go behind the scenes to see how git works its magic. We will cover the abstractions git uses, in particular, a key-value store, hashes, and graphs. We will then dig into how git implements and uses those abstractions to create a version control system using files and the file system. We will walk through examples of using the back-end commands to build a commit history just like git does. Our hope is that by peering behind the curtain we can begin to demystify the magic of git.' metadata={'Meeting Title': 'St. Louis UNIX Users Group (SLUUG) - 2021-06-09', 'Presenataion Type': 'MAIN Presentation'}\n",
      "\n",
      "\n",
      "page_content='The BASE presentation on July 14th, 2021 was titled: Data Entry Form in Calc  \\nThe presenter was  Stan Reichardt.  \\nThe presentation abstract was as follows:\\nData Entry Form is a tool to make table data entry easy in spreadsheets. With the Data Entry Form, you can enter, edit and delete records (or rows) of data and avoid horizontal scrolling when the table has many columns or when some columns are very wide.' metadata={'Meeting Title': 'St. Louis UNIX Users Group (SLUUG) - 2021-07-14', 'Presenataion Type': 'BASE Presentation'}\n",
      "\n",
      "\n",
      "page_content='The MAIN presentation on July 14th, 2021 was titled: Preboot eXecution Environment  \\nThe presenter was Wendell Barber.  \\nThe presentation abstract was as follows:\\nWendell created a PXE server to see if he could get it to work and try out different distro installations without using a disk or a USB flash drive.  \\nIn computing, the Preboot eXecution Environment, PXE specification describes a standardized client-server environment that boots a software assembly, retrieved from a network, on PXE-enabled clients. See: Wikipedia  \\nWendell also built a FreeNas computer with a couple of virtual machines (Raspbian Desktop and Ubuntu) running on it, along with a Unifi controller using a docker, along with a Nextcloud server, and Syncthing running in jails. This machine is also used as an Apple Time Machine backup server.  \\nWendell turned a desktop PC into a router using PFSense with ad blocking features, Dynamic DNS, running a OpenVPN server, and VLAN(s) on it. He installed BunsenLabs Linux Lithium distro on desktop computer the is 22 years on. Also created a simple bash script using the zenity commands that will ask the current logged in users if they would like to update and upgrade their system.' metadata={'Meeting Title': 'St. Louis UNIX Users Group (SLUUG) - 2021-07-14', 'Presenataion Type': 'MAIN Presentation'}\n",
      "\n",
      "\n"
     ]
    }
   ],
   "source": [
    "headers_to_split_on = [\n",
    "    (\"#\", \"Meeting Title\"),\n",
    "    (\"##\", \"Presenataion Type\"),\n",
    "]\n",
    "text_splitter = MarkdownHeaderTextSplitter(headers_to_split_on)\n",
    "documents = text_splitter.split_text(doc_str)\n",
    "\n",
    "for chunk in documents:\n",
    "    print(chunk)\n",
    "    print(\"\\n\")"
   ]
  },
  {
   "cell_type": "markdown",
   "metadata": {},
   "source": [
    "## Create Embeddings Of Each Chunk\n",
    "\n",
    "This section will try to figure out the symantic meaning of each chunk. To do this it will use the embeddings model specified above. \n",
    "\n",
    "Next, it will then store the embeddings in the [FAISS](https://faiss.ai/) vectorstore. From the vectorstore, a retriever is created. The `search_kwargs` tells the retriever how many chunks to return.\n",
    "\n",
    "Lastly, it will create a LangChain."
   ]
  },
  {
   "cell_type": "code",
   "execution_count": 213,
   "metadata": {},
   "outputs": [],
   "source": [
    "embeddings = OllamaEmbeddings(model=\"nomic-embed-text\")\n",
    "vectorstore = FAISS.from_documents(documents, embeddings)\n",
    "retriever = vectorstore.as_retriever(search_type=\"similarity\", search_kwargs={\"k\": 12})\n",
    "chain = create_stuff_documents_chain(llm, prompt)"
   ]
  },
  {
   "cell_type": "markdown",
   "metadata": {},
   "source": [
    "## Augmented Prompts\n",
    "\n",
    "This section will send information about SLUUG and Information about the BASE and MAIN presentations that were given on February-July 2021 along with the Question."
   ]
  },
  {
   "cell_type": "markdown",
   "metadata": {},
   "source": [
    "First, ask the LLM to identify the BASE presentation."
   ]
  },
  {
   "cell_type": "code",
   "execution_count": 214,
   "metadata": {},
   "outputs": [
    {
     "name": "stdout",
     "output_type": "stream",
     "text": [
      "Retrieved 12 chunks.\n",
      "page_content='The MAIN presentation on April 14th, 2021 was titled: COSI (Common Operating System Interface)  \\nThe presenter was  Steven Borrelli.  \\nThe presentation abstract was as follows:\\nThis talk introduces COSI, the Common Operating System Interface, which defines an API for the configuration of container operating systems.  \\nWhile there has been innovation in the development of minimal Linux distributions for running Kubernetes, the distributions diverge from each other in terms of management and API endpoints. Similar to other projects such as the Container Network Interface (CNI) , COSI has a focus on the configuration of the underlying (Linux) OS, providing Protocol Buffer definitions and a gRPC API reference implementation for configuration settings such as DNS, network, and kernel settings. By utilizing a flexible plugin system, multiple backend implementations can provide a consistent API to consumers.' metadata={'Meeting Title': 'St. Louis UNIX Users Group (SLUUG) - 2021-04-14', 'Presenataion Type': 'MAIN Presentation'}\n",
      "\n",
      "\n",
      "page_content='The MAIN presentation on June 9th, 2021 was titled: git: peering behind the curtain  \\nThe presenter was Robert Citek.  \\nThe presentation abstract was as follows:\\nAfter Robert\\'s \"A Gentle Introduction To git\" last February, this will be a deeper dive, getting into some of the \"behind the scenes\" stuff that git does: where it stores files, how it stores metadata about the files, and how the files are organized.  \\nIn a previous talk, we went over the basics of using git as a version control system, covering the working folder, the staging area, and the repository. In this talk, we will go behind the scenes to see how git works its magic. We will cover the abstractions git uses, in particular, a key-value store, hashes, and graphs. We will then dig into how git implements and uses those abstractions to create a version control system using files and the file system. We will walk through examples of using the back-end commands to build a commit history just like git does. Our hope is that by peering behind the curtain we can begin to demystify the magic of git.' metadata={'Meeting Title': 'St. Louis UNIX Users Group (SLUUG) - 2021-06-09', 'Presenataion Type': 'MAIN Presentation'}\n",
      "\n",
      "\n",
      "page_content='The MAIN presentation on July 14th, 2021 was titled: Preboot eXecution Environment  \\nThe presenter was Wendell Barber.  \\nThe presentation abstract was as follows:\\nWendell created a PXE server to see if he could get it to work and try out different distro installations without using a disk or a USB flash drive.  \\nIn computing, the Preboot eXecution Environment, PXE specification describes a standardized client-server environment that boots a software assembly, retrieved from a network, on PXE-enabled clients. See: Wikipedia  \\nWendell also built a FreeNas computer with a couple of virtual machines (Raspbian Desktop and Ubuntu) running on it, along with a Unifi controller using a docker, along with a Nextcloud server, and Syncthing running in jails. This machine is also used as an Apple Time Machine backup server.  \\nWendell turned a desktop PC into a router using PFSense with ad blocking features, Dynamic DNS, running a OpenVPN server, and VLAN(s) on it. He installed BunsenLabs Linux Lithium distro on desktop computer the is 22 years on. Also created a simple bash script using the zenity commands that will ask the current logged in users if they would like to update and upgrade their system.' metadata={'Meeting Title': 'St. Louis UNIX Users Group (SLUUG) - 2021-07-14', 'Presenataion Type': 'MAIN Presentation'}\n",
      "\n",
      "\n",
      "page_content=\"The MAIN presentation on February 10th, 2021 was titled: A Gentle Introduction to git.  \\nThe presenter was Robert Citek.  \\nThe presentation abstract was as follows:\\nFrom its inception in 2005, git has gone from a version-tracking tool used by Linux kernel developers to a corporate mainstay for collaborating in teams on projects. In this talk, we'll go over the three main parts of a git project ( i.e. working folder, staging area, and repository ) and how to work with each. In the process, we'll touch on many of the git objects that make those parts ( e.g. files/folders, commits, branches, SHAs, etc. ). And we'll do that by creating and modifying a project from scratch, using git to manage the changes. By the end, you will have a good basic understanding of how to use git to work on your own projects to then branch into more advanced uses of git.\" metadata={'Meeting Title': 'St. Louis UNIX Users Group (SLUUG) - 2021-02-10', 'Presenataion Type': 'MAIN Presentation'}\n",
      "\n",
      "\n",
      "page_content=\"The BASE presentation on April 14th, 2021 was titled: Create Your Own Shell Functions.  \\nThe presenter was James Conroy.  \\nThe presentation abstract was as follows:\\nTired of your static aliases only doing the one thing?  \\nWant to add some flow control to your shell, so that it changes behavior depending on the time of day, day of the week, or OS of that server you're about to ssh into?  \\nThis tutorial will give you the what, why, and how of BASH functions.  \\nPlus, how to find and 'fix' the functions the last 'sysadmin' left behind.\" metadata={'Meeting Title': 'St. Louis UNIX Users Group (SLUUG) - 2021-04-14', 'Presenataion Type': 'BASE Presentation'}\n",
      "\n",
      "\n",
      "page_content=\"The BASE presentation on February 10th, 2021 was titled: Speedbar.  \\nThe presenter was Steve Stegman.  \\nThe presentation abstract was as follows:\\nEmacs' Speedbar for fast file access.  \\nSpeedBar is a tool (written in EMACS) for organizing or listing files and directories  \\nSpeedbar is an integral part of Emacs which has been in use since version 23.2 in 2010. Entering “speedbar” in the emacs command line causes another frame to be opened to graphically show the current directory tree which can be traversed upwards and downwards from the current position. It shows all of the files and directories and each can be examined with a single mouse click. If the file is not text but a jpg or pdf or some other file type, an auxiliary program will be called to display the file in an emacs buffer.\" metadata={'Meeting Title': 'St. Louis UNIX Users Group (SLUUG) - 2021-02-10', 'Presenataion Type': 'BASE Presentation'}\n",
      "\n",
      "\n",
      "page_content='The BASE presentation on June 9th, 2021 was titled: SQLite 3 Database  \\nThe presenter was Ed Howland.  \\nThe presentation abstract was as follows:\\nA database is used to collect, store, manage, organize and analyze information. There are many database systems. This session will introduce simple database concepts. Then it will cover the free SQLite database system that is likely the single most popular and widely deployed choice.' metadata={'Meeting Title': 'St. Louis UNIX Users Group (SLUUG) - 2021-06-09', 'Presenataion Type': 'BASE Presentation'}\n",
      "\n",
      "\n",
      "page_content='The BASE presentation on March 10th, 2021 was titled: 1Password.  \\nThe presenter was Scott Granneman.  \\nThe presentation abstract was as follows:\\nA password manager that works on Android, Chrome OS, iOS, macOS, MS Windows, and works with browsers Firefox, Google Chrome, Opera, and Safari.' metadata={'Meeting Title': 'St. Louis UNIX Users Group (SLUUG) - 2021-03-10', 'Presenataion Type': 'BASE Presentation'}\n",
      "\n",
      "\n",
      "page_content='The MAIN presentation on March 10th, 2021 was titled: The Raku (Perl 6) language.  \\nThe presenter was Steven Lembark.  \\nThe presentation abstract was as follows:\\n\"Hypers and Gathers and Takes! Oh my!\"  \\nRaku is the new name (since 2019) for Perl 6 (out since 2015). Perl 6 took YEARS in anticipation and when it finally came out, it was very different from older versions of Perl. So much so, they gave up on the name Perl 6 and just went with a new name, RAKU.' metadata={'Meeting Title': 'St. Louis UNIX Users Group (SLUUG) - 2021-03-10', 'Presenataion Type': 'MAIN Presentation'}\n",
      "\n",
      "\n",
      "page_content='The BASE presentation on May 12th, 2021 was titled: Upgrading RAID6, Zero Downtime.  \\nThe presenter was Lee Lammert.  \\nThe presentation abstract was as follows:\\nThere is a lot of hype about \"zero downtime\", and many vendors charge boucoup dinero for that sort of hardware capability to have when upgrading a storage array.  \\nWith Linux SoftRAID, however, don\\'t believe the hype - \"zero downtime\" has nothing to do with hardware!  \\nThis tutorial will cover upgrading a 6x2T SoftRAID array to 6x4T, and then adding two more 4T drives, without any downtime or service interruption.' metadata={'Meeting Title': 'St. Louis UNIX Users Group (SLUUG) - 2021-05-12', 'Presenataion Type': 'BASE Presentation'}\n",
      "\n",
      "\n",
      "page_content='The MAIN presentation on May 12th, 2021 was titled: Redhat Kickstart.  \\nThe presenter was Steven Gomez.  \\nThe presentation abstract was as follows:\\nRed Hat\\'s Kickstart installations offer a means to automate the installation process, either partially or fully. Kickstart files contain answers to all questions normally asked by the installation program, such as what time zone you want the system to use, how the drives should be partitioned, or which packages should be installed. Providing a prepared Kickstart file when the installation begins therefore allows you to perform the installation automatically, without need for any intervention from the user.  \\nKickstart features can be an Admin\\'s best friend. This session will present examples of how to use the Kickstart system with RHEL/CentOS platforms to automate the creation of \"cookie cutter\" systems in an easily repeatable manner. Working examples of various methods of using Kickstarts will be included.' metadata={'Meeting Title': 'St. Louis UNIX Users Group (SLUUG) - 2021-05-12', 'Presenataion Type': 'MAIN Presentation'}\n",
      "\n",
      "\n",
      "page_content='The BASE presentation on July 14th, 2021 was titled: Data Entry Form in Calc  \\nThe presenter was  Stan Reichardt.  \\nThe presentation abstract was as follows:\\nData Entry Form is a tool to make table data entry easy in spreadsheets. With the Data Entry Form, you can enter, edit and delete records (or rows) of data and avoid horizontal scrolling when the table has many columns or when some columns are very wide.' metadata={'Meeting Title': 'St. Louis UNIX Users Group (SLUUG) - 2021-07-14', 'Presenataion Type': 'BASE Presentation'}\n",
      "\n",
      "\n",
      "Answer:  The Base presentation given to the St. Louis Unix Users Group on February 10th, 2021 was titled: Speedbar. The presenter was Steve Stegman.\n"
     ]
    }
   ],
   "source": [
    "retrieved = retriever.invoke(\"What was the BASE presentation given to the St. Louis Unix Users Group on February 2021?\")\n",
    "print(f\"Retrieved {len(retrieved)} chunks.\")\n",
    "for chunk in retrieved:\n",
    "    print(chunk)\n",
    "    print(\"\\n\")\n",
    "print(f\"Answer: {chain.invoke({\"context\": retrieved, \"question\": \"What was the BASE presentation given to the St. Louis Unix Users Group on February 2021?\"})}\")"
   ]
  },
  {
   "cell_type": "code",
   "execution_count": 208,
   "metadata": {},
   "outputs": [
    {
     "name": "stdout",
     "output_type": "stream",
     "text": [
      "Retrieved 3 chunks.\n",
      "page_content=\"The BASE presentation on February 10th, 2021 was titled: Speedbar.  \\nThe presenter was Steve Stegman.  \\nThe presentation abstract was as follows:\\nEmacs' Speedbar for fast file access.  \\nSpeedBar is a tool (written in EMACS) for organizing or listing files and directories  \\nSpeedbar is an integral part of Emacs which has been in use since version 23.2 in 2010. Entering “speedbar” in the emacs command line causes another frame to be opened to graphically show the current directory tree which can be traversed upwards and downwards from the current position. It shows all of the files and directories and each can be examined with a single mouse click. If the file is not text but a jpg or pdf or some other file type, an auxiliary program will be called to display the file in an emacs buffer.\" metadata={'Meeting Title': 'St. Louis UNIX Users Group (SLUUG) - 2021-02-10', 'Presenataion Type': 'BASE Presentation'}\n",
      "\n",
      "\n",
      "page_content='The MAIN presentation on July 14th, 2021 was titled: Preboot eXecution Environment  \\nThe presenter was Wendell Barber.  \\nThe presentation abstract was as follows:\\nWendell created a PXE server to see if he could get it to work and try out different distro installations without using a disk or a USB flash drive.  \\nIn computing, the Preboot eXecution Environment, PXE specification describes a standardized client-server environment that boots a software assembly, retrieved from a network, on PXE-enabled clients. See: Wikipedia  \\nWendell also built a FreeNas computer with a couple of virtual machines (Raspbian Desktop and Ubuntu) running on it, along with a Unifi controller using a docker, along with a Nextcloud server, and Syncthing running in jails. This machine is also used as an Apple Time Machine backup server.  \\nWendell turned a desktop PC into a router using PFSense with ad blocking features, Dynamic DNS, running a OpenVPN server, and VLAN(s) on it. He installed BunsenLabs Linux Lithium distro on desktop computer the is 22 years on. Also created a simple bash script using the zenity commands that will ask the current logged in users if they would like to update and upgrade their system.' metadata={'Meeting Title': 'St. Louis UNIX Users Group (SLUUG) - 2021-07-14', 'Presenataion Type': 'MAIN Presentation'}\n",
      "\n",
      "\n",
      "page_content='The MAIN presentation on March 10th, 2021 was titled: The Raku (Perl 6) language.  \\nThe presenter was Steven Lembark.  \\nThe presentation abstract was as follows:\\n\"Hypers and Gathers and Takes! Oh my!\"  \\nRaku is the new name (since 2019) for Perl 6 (out since 2015). Perl 6 took YEARS in anticipation and when it finally came out, it was very different from older versions of Perl. So much so, they gave up on the name Perl 6 and just went with a new name, RAKU.' metadata={'Meeting Title': 'St. Louis UNIX Users Group (SLUUG) - 2021-03-10', 'Presenataion Type': 'MAIN Presentation'}\n",
      "\n",
      "\n",
      "Answer:  The presentation about Emacs Speedbar was given on February 10th, 2021 by Steve Stegman.\n"
     ]
    }
   ],
   "source": [
    "retrieved = retriever.invoke(\"When was a presentation about Emacs Speedbar given and by who?\")\n",
    "print(f\"Retrieved {len(retrieved)} chunks.\")\n",
    "for chunk in retrieved:\n",
    "    print(chunk)\n",
    "    print(\"\\n\")\n",
    "print(f\"Answer: {chain.invoke({\"context\": retrieved, \"question\": \"When was a presentation about Emacs Speedbar given and by who?\"})}\")"
   ]
  },
  {
   "cell_type": "code",
   "execution_count": 209,
   "metadata": {},
   "outputs": [
    {
     "name": "stdout",
     "output_type": "stream",
     "text": [
      "Retrieved 3 chunks.\n",
      "page_content='The MAIN presentation on June 9th, 2021 was titled: git: peering behind the curtain  \\nThe presenter was Robert Citek.  \\nThe presentation abstract was as follows:\\nAfter Robert\\'s \"A Gentle Introduction To git\" last February, this will be a deeper dive, getting into some of the \"behind the scenes\" stuff that git does: where it stores files, how it stores metadata about the files, and how the files are organized.  \\nIn a previous talk, we went over the basics of using git as a version control system, covering the working folder, the staging area, and the repository. In this talk, we will go behind the scenes to see how git works its magic. We will cover the abstractions git uses, in particular, a key-value store, hashes, and graphs. We will then dig into how git implements and uses those abstractions to create a version control system using files and the file system. We will walk through examples of using the back-end commands to build a commit history just like git does. Our hope is that by peering behind the curtain we can begin to demystify the magic of git.' metadata={'Meeting Title': 'St. Louis UNIX Users Group (SLUUG) - 2021-06-09', 'Presenataion Type': 'MAIN Presentation'}\n",
      "\n",
      "\n",
      "page_content='The MAIN presentation on July 14th, 2021 was titled: Preboot eXecution Environment  \\nThe presenter was Wendell Barber.  \\nThe presentation abstract was as follows:\\nWendell created a PXE server to see if he could get it to work and try out different distro installations without using a disk or a USB flash drive.  \\nIn computing, the Preboot eXecution Environment, PXE specification describes a standardized client-server environment that boots a software assembly, retrieved from a network, on PXE-enabled clients. See: Wikipedia  \\nWendell also built a FreeNas computer with a couple of virtual machines (Raspbian Desktop and Ubuntu) running on it, along with a Unifi controller using a docker, along with a Nextcloud server, and Syncthing running in jails. This machine is also used as an Apple Time Machine backup server.  \\nWendell turned a desktop PC into a router using PFSense with ad blocking features, Dynamic DNS, running a OpenVPN server, and VLAN(s) on it. He installed BunsenLabs Linux Lithium distro on desktop computer the is 22 years on. Also created a simple bash script using the zenity commands that will ask the current logged in users if they would like to update and upgrade their system.' metadata={'Meeting Title': 'St. Louis UNIX Users Group (SLUUG) - 2021-07-14', 'Presenataion Type': 'MAIN Presentation'}\n",
      "\n",
      "\n",
      "page_content='The MAIN presentation on March 10th, 2021 was titled: The Raku (Perl 6) language.  \\nThe presenter was Steven Lembark.  \\nThe presentation abstract was as follows:\\n\"Hypers and Gathers and Takes! Oh my!\"  \\nRaku is the new name (since 2019) for Perl 6 (out since 2015). Perl 6 took YEARS in anticipation and when it finally came out, it was very different from older versions of Perl. So much so, they gave up on the name Perl 6 and just went with a new name, RAKU.' metadata={'Meeting Title': 'St. Louis UNIX Users Group (SLUUG) - 2021-03-10', 'Presenataion Type': 'MAIN Presentation'}\n",
      "\n",
      "\n",
      "Answer:  The presentation titled \"git: peering behind the curtain\" by Robert Citek was related to source code versioning as git is a popular version control system used for managing and tracking changes to source code.\n"
     ]
    }
   ],
   "source": [
    "retrieved = retriever.invoke(\"Which presentations were related to source code versioning?\")\n",
    "print(f\"Retrieved {len(retrieved)} chunks.\")\n",
    "for chunk in retrieved:\n",
    "    print(chunk)\n",
    "    print(\"\\n\")\n",
    "print(f\"Answer: {chain.invoke({\"context\": retrieved, \"question\": \"Which presentations were related to source code versioning?\"})}\")"
   ]
  }
 ],
 "metadata": {
  "kernelspec": {
   "display_name": ".venv",
   "language": "python",
   "name": "python3"
  },
  "language_info": {
   "codemirror_mode": {
    "name": "ipython",
    "version": 3
   },
   "file_extension": ".py",
   "mimetype": "text/x-python",
   "name": "python",
   "nbconvert_exporter": "python",
   "pygments_lexer": "ipython3",
   "version": "3.12.2"
  }
 },
 "nbformat": 4,
 "nbformat_minor": 2
}
